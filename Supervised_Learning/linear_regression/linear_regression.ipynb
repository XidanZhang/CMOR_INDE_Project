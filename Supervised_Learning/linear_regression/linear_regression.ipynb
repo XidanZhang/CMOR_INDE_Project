import numpy as np
import matplotlib.pyplot as plt

class LinearRegression:
    def __init__(self, learning_rate=0.01, epochs=1000):
        self.learning_rate = learning_rate
        self.epochs = epochs
        self.weights = None
        self.bias = None
        self.losses = []  # 用于记录损失

    def compute_loss(self, y, y_pred):
        # 均方误差 (Mean Squared Error)
        loss = np.mean((y - y_pred) ** 2)
        return loss

    def fit(self, X, y):
        n_samples, n_features = X.shape
        self.weights = np.zeros(n_features)
        self.bias = 0

        for epoch in range(self.epochs):
            # 预测值
            y_pred = np.dot(X, self.weights) + self.bias

            # 计算梯度
            dw = -(2 / n_samples) * np.dot(X.T, (y - y_pred))
            db = -(2 / n_samples) * np.sum(y - y_pred)

            # 更新权重和偏置
            self.weights -= self.learning_rate * dw
            self.bias -= self.learning_rate * db

            # 记录损失
            loss = self.compute_loss(y, y_pred)
            self.losses.append(loss)

            # 每 100 轮打印损失
            if epoch % 100 == 0:
                print(f"Epoch {epoch}: Loss = {loss}")

    def predict(self, X):
        return np.dot(X, self.weights) + self.bias

# 数据生成
np.random.seed(42)
X = 2 * np.random.rand(100, 1)  # 生成 100 个样本
y = 4 + 3 * X + np.random.randn(100, 1).flatten()  # 线性关系 y = 4 + 3x + 噪声

# 数据可视化
plt.scatter(X, y, color='blue', edgecolor='k', label='Data')
plt.xlabel("X")
plt.ylabel("y")
plt.title("Generated Linear Data")
plt.legend()
plt.show()

# 模型训练
X_b = np.c_[np.ones((X.shape[0], 1)), X]  # 增加一列偏置
model = LinearRegression(learning_rate=0.01, epochs=1000)
model.fit(X_b, y)

# 绘制损失曲线
plt.plot(model.losses)
plt.title('Loss Curve')
plt.xlabel('Epochs')
plt.ylabel('Loss')
plt.show()

# 绘制回归直线
y_pred = model.predict(X_b)
plt.scatter(X, y, color='blue', edgecolor='k', label='Data')
plt.plot(X, y_pred, color='red', label='Regression Line')
plt.xlabel("X")
plt.ylabel("y")
plt.title("Linear Regression Fit")
plt.legend()
plt.show()
